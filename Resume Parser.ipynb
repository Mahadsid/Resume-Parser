{
 "cells": [
  {
   "cell_type": "code",
   "execution_count": 2,
   "metadata": {},
   "outputs": [
    {
     "name": "stdout",
     "output_type": "stream",
     "text": [
      "Collecting PyPDF2\n",
      "  Downloading PyPDF2-1.26.0.tar.gz (77 kB)\n",
      "Building wheels for collected packages: PyPDF2\n",
      "  Building wheel for PyPDF2 (setup.py): started\n",
      "  Building wheel for PyPDF2 (setup.py): finished with status 'done'\n",
      "  Created wheel for PyPDF2: filename=PyPDF2-1.26.0-py3-none-any.whl size=61087 sha256=9de2f7652e2e034bfc4e22b84dbcc564ac12dc528159b542310a5aca7fd4a33c\n",
      "  Stored in directory: c:\\users\\mohd mahad\\appdata\\local\\pip\\cache\\wheels\\b1\\1a\\8f\\a4c34be976825a2f7948d0fa40907598d69834f8ab5889de11\n",
      "Successfully built PyPDF2\n",
      "Installing collected packages: PyPDF2\n",
      "Successfully installed PyPDF2-1.26.0\n"
     ]
    }
   ],
   "source": [
    "!pip install PyPDF2"
   ]
  },
  {
   "cell_type": "code",
   "execution_count": 3,
   "metadata": {},
   "outputs": [],
   "source": [
    "import PyPDF2\n",
    "import requests\n",
    "import json"
   ]
  },
  {
   "cell_type": "code",
   "execution_count": 5,
   "metadata": {},
   "outputs": [],
   "source": [
    "resume_file_path = 'resumes/resume1.pdf'\n",
    "fhandle = open(resume_file_path, 'rb')"
   ]
  },
  {
   "cell_type": "code",
   "execution_count": 6,
   "metadata": {},
   "outputs": [],
   "source": [
    "pdfReader = PyPDF2.PdfFileReader(fhandle)"
   ]
  },
  {
   "cell_type": "code",
   "execution_count": 7,
   "metadata": {},
   "outputs": [],
   "source": [
    "pagehandle = pdfReader.getPage(0)"
   ]
  },
  {
   "cell_type": "code",
   "execution_count": 8,
   "metadata": {},
   "outputs": [],
   "source": [
    "text = pagehandle.extractText()"
   ]
  },
  {
   "cell_type": "code",
   "execution_count": 9,
   "metadata": {},
   "outputs": [
    {
     "data": {
      "text/plain": [
       "' \\nGregory \\nT. Jones\\n \\n1234 Oak Avenue\\n \\nBowling Green, Kentucky 42101\\n \\n(270) 555\\n-\\n1234\\n \\ngregory.jones154@topper.wku.edu\\n \\n \\nOBJECTIVE:\\n \\nTo obtain a\\nn entry\\n-\\nlevel\\n \\nposition as a \\nMechanical\\n \\nEngineer\\n \\nwith ABC Technologies\\n, allowing \\nme to utilize my education and internship experienc\\ne while gaining valuable\\n \\nwork \\nexperience in a team oriented environment.\\n  \\n \\n \\nEDUCATION:\\n \\nWestern Kentucky University \\n\\n \\nBowling Green, Kentucky\\n \\n \\n \\n   \\nAntic\\nipated May 2012\\n \\n \\nBachelor of Science in \\nMechanical\\n \\nE\\nngineering\\n, \\nMinor: Mathematics\\n \\n \\n \\n \\n \\nGPA: 3.2\\n \\n \\nSKILLS &\\n \\nQUALIFICATIONS\\n:\\n \\n\\n \\nSkilled in \\nSolid Works\\n, Math CAD, \\nMatlab, MS Office, \\nPLC programming and machining\\n \\n\\n \\nKnowledgeable in Mechanical Engineering Sciences: Fluid Mechanics, Strength of Materials, \\nDynamic Systems Analysis, Vibratory Motion, Thermodynamics and Hea\\nt Transfer\\n \\n\\n \\nFast learner and independent with strong leadership and critical thinking skills\\nRELEVANT EXPERIENCE:\\n \\nLord Corporation \\n\\n \\nBowling Green, Kentucky\\n \\n \\n \\n \\n \\n \\n \\nSummer 2011\\n \\nIntern\\n \\n \\n \\n \\n \\n \\n \\n \\n \\n \\n \\n\\n \\nCreated \\nmanufacturing standards that were adopted throughout the production facility\\n \\n\\n \\nAided in facility energy analysis\\n \\n\\n \\nDesigned fixtures to improve rubber flash material\\n \\n\\n \\nTeamed with engineering department to test design of materials; documented findings\\n \\n \\nBowling G\\nreen Motorsports\\n \\n\\n \\nBowling Green, Kentucky\\n                                      \\n       \\nApril 2009\\n-\\nJune 2011\\n \\nTeam Leader/Laborer\\n \\n \\n \\n \\n \\n \\n \\n \\n\\n \\nProvided maintenance and preparation of all racecars\\n \\n\\n \\nServed as tire specialist and recorded all scale data\\n \\n\\n \\nWorked in a \\nteam of 10+ crew members to prepare sheet metal work on all racecars and overall \\nupkeep of all radios used by each team member\\n \\n \\n \\n \\n \\n \\n \\n \\n \\n       \\n \\nADDITIONAL\\n \\nEXPERIENCE:\\n \\nABC Hardware \\n\\n \\nBowling Green, Kentucky\\n \\nCustomer Service Associate\\n \\n \\nMay 2007\\n-\\nApril 2009\\n \\n \\n \\n \\n \\n \\n \\n \\n \\n \\n \\nPROFESSIONAL MEMBERSHIPS:\\n \\n\\n \\nAmerican Society of Mechanical Engineers (ASME), 2009\\n-\\nPresent\\n \\n\\n \\nSociety of Automotive Engineers (SAE), 2010\\n-\\nPresent\\n \\n \\nReferences Available Upon Request\\n \\nSample Resume for Engineering Students \\n(jr/sr level)\\n \\nResume Guidelines\\n \\n \\nContact Info\\n: \\nThis s\\nhould ALWAYS include your name, \\naddress, \\nphone number \\nand \\nemail. Your voicemail and email address \\nshould be professional.\\n \\n \\n \\nObjective\\n: \\nYour objective should be tailored \\nto the specific job \\nand/or facility \\nfor \\nwhich you are applying.\\n \\n \\n \\nEducation:\\n \\nK\\neep this \\nsection\\n \\nas standard as possible\\n \\nand leave \\noff all high school information\\n. \\nInclude:\\n \\nname of degree, \\nanticipated\\n \\ndate of graduation, name of institution, \\ncity/state, \\nand \\nGPA\\n \\nif at least a 3.0\\n.\\n \\n \\n \\nSkills & Qualif\\nications\\n:\\n \\nConsider \\nthe skills, strengths, \\nknowledge and competencies you possess as it directly relates \\nto the position. You may also want to use an existing job \\ndescription to help you brainstorm for this section. \\n \\n \\nRelevant \\nExperience:\\n \\nIf you have relevant experience, this is \\none of the most important parts \\nof your resume. Bullets are \\npreferred over heavily worded paragraphs. Three to five \\nbullets per job is considered the norm.\\n \\nBegin each bullet with \\nan action verb. List in reverse chr\\nonological order (starting \\nwith your current job and working back).\\n \\n \\n \\nAdditional Experience:\\n \\nUse this section to discuss additional \\nwork experience and to show some of your work history.  Try \\nto touch on transferrable skills that would also be beneficial i\\nn \\nthe job you are seeking.\\n \\n \\n \\nMemberships\\n: \\nInclude organization name and dates of \\nmembership\\n.\\n \\n \\nReferences:\\n \\nProvide only if requested. For now, saying \\n\\n \\n \\nQuick Tips: \\nBe sure to \\nproofread\\n, checking for spelling or \\ngramma\\ntical errors, formatting, consistency, neatness and \\nflow.  Avoid using templates and update your resume \\nregularly.  Also, remember to tailor your resume to the \\nposition for which you apply.\\n \\n'"
      ]
     },
     "execution_count": 9,
     "metadata": {},
     "output_type": "execute_result"
    }
   ],
   "source": [
    "text"
   ]
  },
  {
   "cell_type": "code",
   "execution_count": 10,
   "metadata": {},
   "outputs": [],
   "source": [
    "import spacy\n",
    "import json"
   ]
  },
  {
   "cell_type": "code",
   "execution_count": 13,
   "metadata": {},
   "outputs": [
    {
     "name": "stdout",
     "output_type": "stream",
     "text": [
      "Collecting en-core-web-sm==3.2.0\n",
      "  Downloading https://github.com/explosion/spacy-models/releases/download/en_core_web_sm-3.2.0/en_core_web_sm-3.2.0-py3-none-any.whl (13.9 MB)\n",
      "Requirement already satisfied: spacy<3.3.0,>=3.2.0 in c:\\programdata\\anaconda3\\lib\\site-packages (from en-core-web-sm==3.2.0) (3.2.4)\n",
      "Requirement already satisfied: blis<0.8.0,>=0.4.0 in c:\\programdata\\anaconda3\\lib\\site-packages (from spacy<3.3.0,>=3.2.0->en-core-web-sm==3.2.0) (0.7.7)\n",
      "Requirement already satisfied: packaging>=20.0 in c:\\users\\mohd mahad\\appdata\\roaming\\python\\python38\\site-packages (from spacy<3.3.0,>=3.2.0->en-core-web-sm==3.2.0) (21.3)\n",
      "Requirement already satisfied: jinja2 in c:\\programdata\\anaconda3\\lib\\site-packages (from spacy<3.3.0,>=3.2.0->en-core-web-sm==3.2.0) (2.11.2)\n",
      "Requirement already satisfied: wasabi<1.1.0,>=0.8.1 in c:\\programdata\\anaconda3\\lib\\site-packages (from spacy<3.3.0,>=3.2.0->en-core-web-sm==3.2.0) (0.9.1)\n",
      "Requirement already satisfied: spacy-legacy<3.1.0,>=3.0.8 in c:\\programdata\\anaconda3\\lib\\site-packages (from spacy<3.3.0,>=3.2.0->en-core-web-sm==3.2.0) (3.0.9)\n",
      "Requirement already satisfied: pathy>=0.3.5 in c:\\programdata\\anaconda3\\lib\\site-packages (from spacy<3.3.0,>=3.2.0->en-core-web-sm==3.2.0) (0.6.1)\n",
      "Requirement already satisfied: preshed<3.1.0,>=3.0.2 in c:\\programdata\\anaconda3\\lib\\site-packages (from spacy<3.3.0,>=3.2.0->en-core-web-sm==3.2.0) (3.0.6)\n",
      "Requirement already satisfied: tqdm<5.0.0,>=4.38.0 in c:\\programdata\\anaconda3\\lib\\site-packages (from spacy<3.3.0,>=3.2.0->en-core-web-sm==3.2.0) (4.47.0)\n",
      "Requirement already satisfied: langcodes<4.0.0,>=3.2.0 in c:\\programdata\\anaconda3\\lib\\site-packages (from spacy<3.3.0,>=3.2.0->en-core-web-sm==3.2.0) (3.3.0)\n",
      "Requirement already satisfied: pydantic!=1.8,!=1.8.1,<1.9.0,>=1.7.4 in c:\\programdata\\anaconda3\\lib\\site-packages (from spacy<3.3.0,>=3.2.0->en-core-web-sm==3.2.0) (1.8.2)\n",
      "Requirement already satisfied: spacy-loggers<2.0.0,>=1.0.0 in c:\\programdata\\anaconda3\\lib\\site-packages (from spacy<3.3.0,>=3.2.0->en-core-web-sm==3.2.0) (1.0.2)\n",
      "Requirement already satisfied: srsly<3.0.0,>=2.4.1 in c:\\programdata\\anaconda3\\lib\\site-packages (from spacy<3.3.0,>=3.2.0->en-core-web-sm==3.2.0) (2.4.2)\n",
      "Requirement already satisfied: cymem<2.1.0,>=2.0.2 in c:\\programdata\\anaconda3\\lib\\site-packages (from spacy<3.3.0,>=3.2.0->en-core-web-sm==3.2.0) (2.0.6)\n",
      "Requirement already satisfied: typer<0.5.0,>=0.3.0 in c:\\programdata\\anaconda3\\lib\\site-packages (from spacy<3.3.0,>=3.2.0->en-core-web-sm==3.2.0) (0.4.1)\n",
      "Requirement already satisfied: numpy>=1.15.0 in c:\\programdata\\anaconda3\\lib\\site-packages (from spacy<3.3.0,>=3.2.0->en-core-web-sm==3.2.0) (1.21.5)\n",
      "Requirement already satisfied: thinc<8.1.0,>=8.0.12 in c:\\programdata\\anaconda3\\lib\\site-packages (from spacy<3.3.0,>=3.2.0->en-core-web-sm==3.2.0) (8.0.15)\n",
      "Requirement already satisfied: setuptools in c:\\programdata\\anaconda3\\lib\\site-packages (from spacy<3.3.0,>=3.2.0->en-core-web-sm==3.2.0) (49.2.0.post20200714)\n",
      "Requirement already satisfied: murmurhash<1.1.0,>=0.28.0 in c:\\programdata\\anaconda3\\lib\\site-packages (from spacy<3.3.0,>=3.2.0->en-core-web-sm==3.2.0) (1.0.6)\n",
      "Requirement already satisfied: requests<3.0.0,>=2.13.0 in c:\\programdata\\anaconda3\\lib\\site-packages (from spacy<3.3.0,>=3.2.0->en-core-web-sm==3.2.0) (2.24.0)\n",
      "Requirement already satisfied: click<8.1.0 in c:\\programdata\\anaconda3\\lib\\site-packages (from spacy<3.3.0,>=3.2.0->en-core-web-sm==3.2.0) (7.1.2)\n",
      "Requirement already satisfied: catalogue<2.1.0,>=2.0.6 in c:\\programdata\\anaconda3\\lib\\site-packages (from spacy<3.3.0,>=3.2.0->en-core-web-sm==3.2.0) (2.0.7)\n",
      "Requirement already satisfied: pyparsing!=3.0.5,>=2.0.2 in c:\\programdata\\anaconda3\\lib\\site-packages (from packaging>=20.0->spacy<3.3.0,>=3.2.0->en-core-web-sm==3.2.0) (2.4.7)\n",
      "Requirement already satisfied: MarkupSafe>=0.23 in c:\\programdata\\anaconda3\\lib\\site-packages (from jinja2->spacy<3.3.0,>=3.2.0->en-core-web-sm==3.2.0) (1.1.1)\n",
      "Requirement already satisfied: smart-open<6.0.0,>=5.0.0 in c:\\programdata\\anaconda3\\lib\\site-packages (from pathy>=0.3.5->spacy<3.3.0,>=3.2.0->en-core-web-sm==3.2.0) (5.2.1)\n",
      "Requirement already satisfied: typing-extensions>=3.7.4.3 in c:\\users\\mohd mahad\\appdata\\roaming\\python\\python38\\site-packages (from pydantic!=1.8,!=1.8.1,<1.9.0,>=1.7.4->spacy<3.3.0,>=3.2.0->en-core-web-sm==3.2.0) (4.1.1)\n",
      "Requirement already satisfied: certifi>=2017.4.17 in c:\\programdata\\anaconda3\\lib\\site-packages (from requests<3.0.0,>=2.13.0->spacy<3.3.0,>=3.2.0->en-core-web-sm==3.2.0) (2020.6.20)\n",
      "Requirement already satisfied: urllib3!=1.25.0,!=1.25.1,<1.26,>=1.21.1 in c:\\programdata\\anaconda3\\lib\\site-packages (from requests<3.0.0,>=2.13.0->spacy<3.3.0,>=3.2.0->en-core-web-sm==3.2.0) (1.25.9)\n",
      "Requirement already satisfied: chardet<4,>=3.0.2 in c:\\programdata\\anaconda3\\lib\\site-packages (from requests<3.0.0,>=2.13.0->spacy<3.3.0,>=3.2.0->en-core-web-sm==3.2.0) (3.0.4)\n",
      "Requirement already satisfied: idna<3,>=2.5 in c:\\programdata\\anaconda3\\lib\\site-packages (from requests<3.0.0,>=2.13.0->spacy<3.3.0,>=3.2.0->en-core-web-sm==3.2.0) (2.10)\n",
      "Installing collected packages: en-core-web-sm\n",
      "Successfully installed en-core-web-sm-3.2.0\n",
      "[+] Download and installation successful\n",
      "You can now load the package via spacy.load('en_core_web_sm')\n"
     ]
    },
    {
     "name": "stderr",
     "output_type": "stream",
     "text": [
      "2022-04-04 18:18:07.477799: W tensorflow/stream_executor/platform/default/dso_loader.cc:64] Could not load dynamic library 'cudart64_110.dll'; dlerror: cudart64_110.dll not found\n",
      "2022-04-04 18:18:07.477968: I tensorflow/stream_executor/cuda/cudart_stub.cc:29] Ignore above cudart dlerror if you do not have a GPU set up on your machine.\n"
     ]
    }
   ],
   "source": [
    "!python -m spacy download en_core_web_sm"
   ]
  },
  {
   "cell_type": "code",
   "execution_count": 11,
   "metadata": {},
   "outputs": [],
   "source": [
    "class EntityGenerator(object):\n",
    "    \n",
    "    _slots__ = ['text']\n",
    "    \n",
    "    def __init__(self, text=None):\n",
    "        self.text = text\n",
    "        \n",
    "    def get(self):\n",
    "        \"\"\"\n",
    "        Return a Json\n",
    "        \"\"\"\n",
    "        nlp = spacy.load(\"en_core_web_sm\")\n",
    "        doc = nlp(self.text)\n",
    "        text = [ent.text for ent in doc.ents]\n",
    "        entity = [ent.label_ for ent in doc.ents]\n",
    "    \n",
    "        from collections import Counter\n",
    "        import json\n",
    "\n",
    "        data = Counter(zip(entity))\n",
    "        unique_entity = list(data.keys())\n",
    "        unique_entity = [x[0] for x in unique_entity]\n",
    "\n",
    "        d = {}\n",
    "        for val in unique_entity:\n",
    "            d[val] = []\n",
    "\n",
    "        for key,val in dict(zip(text, entity)).items():\n",
    "            if val in unique_entity:\n",
    "                d[val].append(key)\n",
    "        return d"
   ]
  },
  {
   "cell_type": "code",
   "execution_count": 14,
   "metadata": {},
   "outputs": [
    {
     "name": "stdout",
     "output_type": "stream",
     "text": [
      "{\n",
      "   \"WORK_OF_ART\": [\n",
      "      \"Gregory \\nT. Jones\",\n",
      "      \"Knowledgeable in Mechanical Engineering Sciences: Fluid Mechanics\"\n",
      "   ],\n",
      "   \"DATE\": [\n",
      "      \"1234\",\n",
      "      \"May 2012\",\n",
      "      \"Summer 2011\",\n",
      "      \"April 2009\",\n",
      "      \"June 2011\",\n",
      "      \"May 2007\",\n",
      "      \"2009\",\n",
      "      \"2010\"\n",
      "   ],\n",
      "   \"ORG\": [\n",
      "      \"Oak Avenue\",\n",
      "      \"Engineer\",\n",
      "      \"ABC Technologies\",\n",
      "      \"Western Kentucky University\",\n",
      "      \"SKILLS &\\n \\nQUALIFICATIONS\\n\",\n",
      "      \"Matlab\",\n",
      "      \"MS Office\",\n",
      "      \"Dynamic Systems Analysis\",\n",
      "      \"Vibratory Motion\",\n",
      "      \"Transfer\",\n",
      "      \"Intern\\n \\n \\n \\n \\n \\n \\n \\n \\n \\n \\n \\n\\n \\nCreated\",\n",
      "      \"Motorsports\\n \\n\\n \\nBowling Green\",\n",
      "      \"Team Leader/Laborer\",\n",
      "      \"ABC Hardware\",\n",
      "      \"PROFESSIONAL\",\n",
      "      \"American Society of Mechanical Engineers (ASME\",\n",
      "      \"Automotive Engineers\",\n",
      "      \"SAE\",\n",
      "      \"jr/sr level\",\n",
      "      \"GPA\",\n",
      "      \"Skills & Qualif\"\n",
      "   ],\n",
      "   \"PERSON\": [\n",
      "      \"Bowling Green\",\n",
      "      \"Hea\",\n",
      "      \"Resume Guidelines\"\n",
      "   ],\n",
      "   \"GPE\": [\n",
      "      \"Kentucky\",\n",
      "      \"Math CAD\"\n",
      "   ],\n",
      "   \"CARDINAL\": [\n",
      "      \"270\",\n",
      "      \"555\",\n",
      "      \"3.2\",\n",
      "      \"10+\",\n",
      "      \"3.0\",\n",
      "      \"Three\",\n",
      "      \"five\"\n",
      "   ]\n",
      "}\n"
     ]
    }
   ],
   "source": [
    "contents = EntityGenerator(text=text)\n",
    "response = contents.get()\n",
    "print(json.dumps(response , indent=3))"
   ]
  },
  {
   "cell_type": "code",
   "execution_count": 16,
   "metadata": {},
   "outputs": [],
   "source": [
    "with open('personal.json', 'w') as json_file:\n",
    "    json.dump(response, json_file)"
   ]
  },
  {
   "cell_type": "code",
   "execution_count": 17,
   "metadata": {},
   "outputs": [],
   "source": [
    "resume_file_path_2 = 'resumes/resume2.pdf'\n",
    "fhandle_2 = open(resume_file_path_2, 'rb')"
   ]
  },
  {
   "cell_type": "code",
   "execution_count": 18,
   "metadata": {},
   "outputs": [],
   "source": [
    "pdfReader_2 = PyPDF2.PdfFileReader(fhandle_2)"
   ]
  },
  {
   "cell_type": "code",
   "execution_count": 19,
   "metadata": {},
   "outputs": [],
   "source": [
    "pagehandle_2 = pdfReader.getPage(0)"
   ]
  },
  {
   "cell_type": "code",
   "execution_count": 20,
   "metadata": {},
   "outputs": [],
   "source": [
    "text_2 = pagehandle_2.extractText()"
   ]
  },
  {
   "cell_type": "code",
   "execution_count": 21,
   "metadata": {},
   "outputs": [
    {
     "data": {
      "text/plain": [
       "' \\nGregory \\nT. Jones\\n \\n1234 Oak Avenue\\n \\nBowling Green, Kentucky 42101\\n \\n(270) 555\\n-\\n1234\\n \\ngregory.jones154@topper.wku.edu\\n \\n \\nOBJECTIVE:\\n \\nTo obtain a\\nn entry\\n-\\nlevel\\n \\nposition as a \\nMechanical\\n \\nEngineer\\n \\nwith ABC Technologies\\n, allowing \\nme to utilize my education and internship experienc\\ne while gaining valuable\\n \\nwork \\nexperience in a team oriented environment.\\n  \\n \\n \\nEDUCATION:\\n \\nWestern Kentucky University \\n\\n \\nBowling Green, Kentucky\\n \\n \\n \\n   \\nAntic\\nipated May 2012\\n \\n \\nBachelor of Science in \\nMechanical\\n \\nE\\nngineering\\n, \\nMinor: Mathematics\\n \\n \\n \\n \\n \\nGPA: 3.2\\n \\n \\nSKILLS &\\n \\nQUALIFICATIONS\\n:\\n \\n\\n \\nSkilled in \\nSolid Works\\n, Math CAD, \\nMatlab, MS Office, \\nPLC programming and machining\\n \\n\\n \\nKnowledgeable in Mechanical Engineering Sciences: Fluid Mechanics, Strength of Materials, \\nDynamic Systems Analysis, Vibratory Motion, Thermodynamics and Hea\\nt Transfer\\n \\n\\n \\nFast learner and independent with strong leadership and critical thinking skills\\nRELEVANT EXPERIENCE:\\n \\nLord Corporation \\n\\n \\nBowling Green, Kentucky\\n \\n \\n \\n \\n \\n \\n \\nSummer 2011\\n \\nIntern\\n \\n \\n \\n \\n \\n \\n \\n \\n \\n \\n \\n\\n \\nCreated \\nmanufacturing standards that were adopted throughout the production facility\\n \\n\\n \\nAided in facility energy analysis\\n \\n\\n \\nDesigned fixtures to improve rubber flash material\\n \\n\\n \\nTeamed with engineering department to test design of materials; documented findings\\n \\n \\nBowling G\\nreen Motorsports\\n \\n\\n \\nBowling Green, Kentucky\\n                                      \\n       \\nApril 2009\\n-\\nJune 2011\\n \\nTeam Leader/Laborer\\n \\n \\n \\n \\n \\n \\n \\n \\n\\n \\nProvided maintenance and preparation of all racecars\\n \\n\\n \\nServed as tire specialist and recorded all scale data\\n \\n\\n \\nWorked in a \\nteam of 10+ crew members to prepare sheet metal work on all racecars and overall \\nupkeep of all radios used by each team member\\n \\n \\n \\n \\n \\n \\n \\n \\n \\n       \\n \\nADDITIONAL\\n \\nEXPERIENCE:\\n \\nABC Hardware \\n\\n \\nBowling Green, Kentucky\\n \\nCustomer Service Associate\\n \\n \\nMay 2007\\n-\\nApril 2009\\n \\n \\n \\n \\n \\n \\n \\n \\n \\n \\n \\nPROFESSIONAL MEMBERSHIPS:\\n \\n\\n \\nAmerican Society of Mechanical Engineers (ASME), 2009\\n-\\nPresent\\n \\n\\n \\nSociety of Automotive Engineers (SAE), 2010\\n-\\nPresent\\n \\n \\nReferences Available Upon Request\\n \\nSample Resume for Engineering Students \\n(jr/sr level)\\n \\nResume Guidelines\\n \\n \\nContact Info\\n: \\nThis s\\nhould ALWAYS include your name, \\naddress, \\nphone number \\nand \\nemail. Your voicemail and email address \\nshould be professional.\\n \\n \\n \\nObjective\\n: \\nYour objective should be tailored \\nto the specific job \\nand/or facility \\nfor \\nwhich you are applying.\\n \\n \\n \\nEducation:\\n \\nK\\neep this \\nsection\\n \\nas standard as possible\\n \\nand leave \\noff all high school information\\n. \\nInclude:\\n \\nname of degree, \\nanticipated\\n \\ndate of graduation, name of institution, \\ncity/state, \\nand \\nGPA\\n \\nif at least a 3.0\\n.\\n \\n \\n \\nSkills & Qualif\\nications\\n:\\n \\nConsider \\nthe skills, strengths, \\nknowledge and competencies you possess as it directly relates \\nto the position. You may also want to use an existing job \\ndescription to help you brainstorm for this section. \\n \\n \\nRelevant \\nExperience:\\n \\nIf you have relevant experience, this is \\none of the most important parts \\nof your resume. Bullets are \\npreferred over heavily worded paragraphs. Three to five \\nbullets per job is considered the norm.\\n \\nBegin each bullet with \\nan action verb. List in reverse chr\\nonological order (starting \\nwith your current job and working back).\\n \\n \\n \\nAdditional Experience:\\n \\nUse this section to discuss additional \\nwork experience and to show some of your work history.  Try \\nto touch on transferrable skills that would also be beneficial i\\nn \\nthe job you are seeking.\\n \\n \\n \\nMemberships\\n: \\nInclude organization name and dates of \\nmembership\\n.\\n \\n \\nReferences:\\n \\nProvide only if requested. For now, saying \\n\\n \\n \\nQuick Tips: \\nBe sure to \\nproofread\\n, checking for spelling or \\ngramma\\ntical errors, formatting, consistency, neatness and \\nflow.  Avoid using templates and update your resume \\nregularly.  Also, remember to tailor your resume to the \\nposition for which you apply.\\n \\n'"
      ]
     },
     "execution_count": 21,
     "metadata": {},
     "output_type": "execute_result"
    }
   ],
   "source": [
    "text_2"
   ]
  },
  {
   "cell_type": "code",
   "execution_count": 22,
   "metadata": {},
   "outputs": [
    {
     "name": "stdout",
     "output_type": "stream",
     "text": [
      "{\n",
      "   \"WORK_OF_ART\": [\n",
      "      \"Gregory \\nT. Jones\",\n",
      "      \"Knowledgeable in Mechanical Engineering Sciences: Fluid Mechanics\"\n",
      "   ],\n",
      "   \"DATE\": [\n",
      "      \"1234\",\n",
      "      \"May 2012\",\n",
      "      \"Summer 2011\",\n",
      "      \"April 2009\",\n",
      "      \"June 2011\",\n",
      "      \"May 2007\",\n",
      "      \"2009\",\n",
      "      \"2010\"\n",
      "   ],\n",
      "   \"ORG\": [\n",
      "      \"Oak Avenue\",\n",
      "      \"Engineer\",\n",
      "      \"ABC Technologies\",\n",
      "      \"Western Kentucky University\",\n",
      "      \"SKILLS &\\n \\nQUALIFICATIONS\\n\",\n",
      "      \"Matlab\",\n",
      "      \"MS Office\",\n",
      "      \"Dynamic Systems Analysis\",\n",
      "      \"Vibratory Motion\",\n",
      "      \"Transfer\",\n",
      "      \"Intern\\n \\n \\n \\n \\n \\n \\n \\n \\n \\n \\n \\n\\n \\nCreated\",\n",
      "      \"Motorsports\\n \\n\\n \\nBowling Green\",\n",
      "      \"Team Leader/Laborer\",\n",
      "      \"ABC Hardware\",\n",
      "      \"PROFESSIONAL\",\n",
      "      \"American Society of Mechanical Engineers (ASME\",\n",
      "      \"Automotive Engineers\",\n",
      "      \"SAE\",\n",
      "      \"jr/sr level\",\n",
      "      \"GPA\",\n",
      "      \"Skills & Qualif\"\n",
      "   ],\n",
      "   \"PERSON\": [\n",
      "      \"Bowling Green\",\n",
      "      \"Hea\",\n",
      "      \"Resume Guidelines\"\n",
      "   ],\n",
      "   \"GPE\": [\n",
      "      \"Kentucky\",\n",
      "      \"Math CAD\"\n",
      "   ],\n",
      "   \"CARDINAL\": [\n",
      "      \"270\",\n",
      "      \"555\",\n",
      "      \"3.2\",\n",
      "      \"10+\",\n",
      "      \"3.0\",\n",
      "      \"Three\",\n",
      "      \"five\"\n",
      "   ]\n",
      "}\n"
     ]
    }
   ],
   "source": [
    "contents_2 = EntityGenerator(text=text_2)\n",
    "response_2 = contents.get()\n",
    "print(json.dumps(response_2 , indent=3))"
   ]
  },
  {
   "cell_type": "code",
   "execution_count": 23,
   "metadata": {},
   "outputs": [],
   "source": [
    "with open('personal_2.json', 'w') as json_file:\n",
    "    json.dump(response_2, json_file)"
   ]
  },
  {
   "cell_type": "code",
   "execution_count": null,
   "metadata": {},
   "outputs": [],
   "source": []
  }
 ],
 "metadata": {
  "kernelspec": {
   "display_name": "Python 3",
   "language": "python",
   "name": "python3"
  },
  "language_info": {
   "codemirror_mode": {
    "name": "ipython",
    "version": 3
   },
   "file_extension": ".py",
   "mimetype": "text/x-python",
   "name": "python",
   "nbconvert_exporter": "python",
   "pygments_lexer": "ipython3",
   "version": "3.8.3"
  }
 },
 "nbformat": 4,
 "nbformat_minor": 4
}
